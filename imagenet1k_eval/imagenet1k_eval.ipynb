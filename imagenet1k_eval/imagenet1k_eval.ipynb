{
  "cells": [
    {
      "cell_type": "code",
      "execution_count": 3,
      "metadata": {
        "id": "DIBQJAH1bfao"
      },
      "outputs": [],
      "source": [
        "from tensorflow import keras\n",
        "import tensorflow as tf\n",
        "import numpy as np\n",
        "import os\n",
        "import cv2\n",
        "try:\n",
        "    from imutils import paths\n",
        "except:\n",
        "    !pip install imutils --quiet\n",
        "    from imutils import paths\n",
        "try:\n",
        "    import timm\n",
        "except:\n",
        "    !pip install timm --quiet\n",
        "    import timm\n",
        "import json\n",
        "import time, os\n",
        "import numpy as np\n",
        "import pandas as pd\n",
        "import matplotlib.pyplot as plt\n",
        "import seaborn as ans\n",
        "from tqdm import tqdm\n",
        "import shutil\n",
        "import gdown\n",
        "import tensorflow as tf\n",
        "from tensorflow import keras\n",
        "from tensorflow.keras import Model\n",
        "from tensorflow.keras import layers\n",
        "from tensorflow.keras.layers import *\n",
        "import tensorflow_datasets as tfds\n",
        "from tensorflow.keras.initializers import RandomNormal\n",
        "from tensorflow.keras import *\n",
        "from datetime import datetime\n",
        "from tensorflow.keras.applications.vgg19 import VGG19\n",
        "from tensorflow.keras.activations import sigmoid\n",
        "from tensorflow.keras.layers import Dense, Input, UpSampling2D, Conv2DTranspose, Conv2D, add, Add,\\\n",
        "                    Lambda, Concatenate, AveragePooling2D, BatchNormalization, GlobalAveragePooling2D, \\\n",
        "                    Add, LayerNormalization, Activation, LeakyReLU, SeparableConv2D, Softmax, MaxPooling2D, Dropout\n",
        "\n",
        "\n"
      ]
    },
    {
      "cell_type": "code",
      "execution_count": 2,
      "metadata": {
        "colab": {
          "base_uri": "https://localhost:8080/"
        },
        "id": "R79ME2jYbl4e",
        "outputId": "bbf0c111-5dab-40fc-90f9-fa0b11299b00"
      },
      "outputs": [
        {
          "name": "stdout",
          "output_type": "stream",
          "text": [
            "rm: cannot remove 'CaiT1': No such file or directory\n",
            "rm: cannot remove 'CaiT3': No such file or directory\n",
            "rm: cannot remove 'CaiT4': No such file or directory\n",
            "rm: cannot remove 'CaiT5': No such file or directory\n",
            "Cloning into 'CaiT-TF2'...\n",
            "remote: Enumerating objects: 250, done.\u001b[K\n",
            "remote: Counting objects: 100% (10/10), done.\u001b[K\n",
            "remote: Compressing objects: 100% (10/10), done.\u001b[K\n",
            "remote: Total 250 (delta 3), reused 4 (delta 0), pack-reused 240\u001b[K\n",
            "Receiving objects: 100% (250/250), 49.88 KiB | 2.00 MiB/s, done.\n",
            "Resolving deltas: 100% (134/134), done.\n"
          ]
        }
      ],
      "source": [
        "!rm -r CaiT1 CaiT3 CaiT4 CaiT5\n",
        "!git clone https://github.com/shilu10/CaiT-TF2.git\n",
        "!mv CaiT-TF2 CaiT12"
      ]
    },
    {
      "cell_type": "code",
      "execution_count": 3,
      "metadata": {
        "colab": {
          "base_uri": "https://localhost:8080/"
        },
        "id": "Pv1UJsohKK21",
        "outputId": "5e83bf29-7517-42bf-f2bd-4d65e428608e"
      },
      "outputs": [
        {
          "name": "stdout",
          "output_type": "stream",
          "text": [
            "Cloning into 'imagenet-sample-images'...\n",
            "remote: Enumerating objects: 1012, done.\u001b[K\n",
            "remote: Counting objects: 100% (10/10), done.\u001b[K\n",
            "remote: Compressing objects: 100% (8/8), done.\u001b[K\n",
            "remote: Total 1012 (delta 3), reused 5 (delta 2), pack-reused 1002\u001b[K\n",
            "Receiving objects: 100% (1012/1012), 103.84 MiB | 16.87 MiB/s, done.\n",
            "Resolving deltas: 100% (3/3), done.\n"
          ]
        }
      ],
      "source": [
        "# imagenet1k evaluation dataset path\n",
        "!git clone https://github.com/EliSchwartz/imagenet-sample-images.git"
      ]
    },
    {
      "cell_type": "code",
      "execution_count": 4,
      "metadata": {
        "colab": {
          "base_uri": "https://localhost:8080/",
          "height": 110
        },
        "id": "lxNU79x7NpqG",
        "outputId": "8ddcd970-0e34-48fb-b88b-5487a59141ed"
      },
      "outputs": [
        {
          "name": "stderr",
          "output_type": "stream",
          "text": [
            "Downloading...\n",
            "From: https://drive.google.com/uc?id=1vwKgaJf4VqCbKkUHsOIVOE2HBHUFv05I\n",
            "To: /content/cait_models.zip\n",
            "100%|██████████| 3.27G/3.27G [00:34<00:00, 94.0MB/s]\n"
          ]
        },
        {
          "data": {
            "application/vnd.google.colaboratory.intrinsic+json": {
              "type": "string"
            },
            "text/plain": [
              "'cait_models.zip'"
            ]
          },
          "execution_count": 4,
          "metadata": {},
          "output_type": "execute_result"
        }
      ],
      "source": [
        "# to port weights from pretrained pytorch to tensorflow model\n",
        "#from CaiT.port_all import main\n",
        "#main()\n",
        "\n",
        "\n",
        "# download cait models from gdrive\n",
        "url = \"https://drive.google.com/uc?id=1vwKgaJf4VqCbKkUHsOIVOE2HBHUFv05I\"\n",
        "gdown.download(url)"
      ]
    },
    {
      "cell_type": "code",
      "execution_count": null,
      "metadata": {
        "id": "QFSMBz3vUzdF"
      },
      "outputs": [],
      "source": [
        "!unzip cait_models.zip"
      ]
    },
    {
      "cell_type": "code",
      "execution_count": null,
      "metadata": {
        "id": "kJLa2i6ObpWc"
      },
      "outputs": [],
      "source": []
    },
    {
      "cell_type": "code",
      "execution_count": 5,
      "metadata": {
        "id": "FzdriR2-nZr1"
      },
      "outputs": [],
      "source": [
        "with open(\"/content/CaiT12/imagenet1k_eval/imagenet_labels.json\", \"r\") as file:\n",
        "  class_labels = json.load(file)"
      ]
    },
    {
      "cell_type": "code",
      "execution_count": 6,
      "metadata": {
        "id": "emPBojBCXeHG"
      },
      "outputs": [],
      "source": [
        "def make_log_file(fpath, model_variant, top1_accuracy, top5_accuracy):\n",
        "  with open(f\"{fpath}\", \"w\") as file:\n",
        "    file.write(\"model_variant, top1_accuracy, top5_accuracy\\n\")\n",
        "    file.write(f\"{model_variant}, {top1_accuracy}, {top5_accuracy}\")\n",
        "\n",
        "def make_log_file_all_variant(fpath):\n",
        "  with open(fpath, \"w\") as file:\n",
        "    file.write(\"model_variant, top1_accuracy, top5_accuracy\\n\")\n",
        "\n",
        "def add_log_all_variant(fpath, model_variant, top1_accuracy, top5_accuracy):\n",
        "  with open(fpath, \"a\") as file:\n",
        "    file.write(f\"{model_variant}, {top1_accuracy}, {top5_accuracy}\\n\")"
      ]
    },
    {
      "cell_type": "code",
      "execution_count": 7,
      "metadata": {
        "id": "fghoNZM7JmH_"
      },
      "outputs": [],
      "source": [
        "def get_reverse_class_labels(class_labels):\n",
        "  reverse_class_labels_dict = {}\n",
        "  for key, value in class_labels.items():\n",
        "    for cls in value.split(\",\"):\n",
        "      reverse_class_labels_dict[cls.strip()] = int(key)\n",
        "\n",
        "  return reverse_class_labels_dict"
      ]
    },
    {
      "cell_type": "code",
      "execution_count": 8,
      "metadata": {
        "id": "5hZTRyv5IwqW"
      },
      "outputs": [],
      "source": [
        "def preprocess_data(image, label):\n",
        "  #raw = tf.io.read_file(image_path)\n",
        "  #image = tf.io.decode_image(raw, expand_animations = False)\n",
        "  #image = tf.io.decode_jpeg(raw)\n",
        "  image = tf.image.convert_image_dtype(image, dtype=tf.float32)\n",
        "  #image = tf.image.resize(image, (224, 224))\n",
        "  return image, label"
      ]
    },
    {
      "cell_type": "code",
      "execution_count": 9,
      "metadata": {
        "id": "_GwrXDsDIwnZ"
      },
      "outputs": [],
      "source": [
        "def get_encoded_labels(image_files, reverse_class_labels_dict):\n",
        "  test_class_labels = []\n",
        "\n",
        "  for image_file in image_files:\n",
        "    class_name = image_file.split('/')[1][10: ].split(\".\")[0]\n",
        "    class_name = class_name.replace('_', \" \")\n",
        "    class_label = reverse_class_labels_dict[class_name]\n",
        "    test_class_labels.append(class_label)\n",
        "\n",
        "  test_class_labels = np.array(test_class_labels)\n",
        "\n",
        "  return test_class_labels"
      ]
    },
    {
      "cell_type": "code",
      "execution_count": 10,
      "metadata": {
        "id": "55eZJVFXIwfQ"
      },
      "outputs": [],
      "source": [
        "import cv2\n",
        "\n",
        "def create_image_arr(image_files, img_size=224):\n",
        "  images = []\n",
        "  for image_path in image_files:\n",
        "    img = cv2.imread(image_path)\n",
        "    img = cv2.cvtColor(img, cv2.COLOR_BGR2RGB)\n",
        "\n",
        "    if len(img.shape) != 3:\n",
        "      break\n",
        "\n",
        "    img = cv2.resize(img, (img_size, img_size))\n",
        "    images.append(img)\n",
        "\n",
        "  images = np.array(images)\n",
        "\n",
        "  return images\n"
      ]
    },
    {
      "cell_type": "code",
      "execution_count": 11,
      "metadata": {
        "id": "IJHv4lSgIwdA"
      },
      "outputs": [],
      "source": [
        "def create_tf_dataset(images, labels, batch_size=5):\n",
        "  test_ds = tf.data.Dataset.from_tensor_slices((images, labels))\n",
        "  test_ds = test_ds.map(lambda x, y: preprocess_data(x, y))\n",
        "  test_ds = test_ds.batch(batch_size, drop_remainder=True)\n",
        "  test_ds = test_ds.prefetch(tf.data.AUTOTUNE)\n",
        "\n",
        "  return test_ds"
      ]
    },
    {
      "cell_type": "code",
      "execution_count": 12,
      "metadata": {
        "id": "JWrOyVvqM369"
      },
      "outputs": [],
      "source": [
        "def make_prediction(model, test_ds):\n",
        "\n",
        "  acc_obj_func = tf.keras.metrics.SparseCategoricalAccuracy(name=\"sparse_categorical_accuracy\")\n",
        "  top1_acc_obj_func = tf.keras.metrics.SparseTopKCategoricalAccuracy(k=1, name=\"top1_sparse_categorical_accuracy\")\n",
        "  top5_acc_obj_func = tf.keras.metrics.SparseTopKCategoricalAccuracy(k=5, name=\"top5_sparse_categorical_accuracy\")\n",
        "\n",
        "  for i, (img_batch, label_batch) in tqdm(enumerate(test_ds), total=len(test_ds)):\n",
        "    prediction = model.predict(img_batch, verbose=False)\n",
        "\n",
        "    acc_obj_func.update_state(label_batch, prediction[0])\n",
        "    top1_acc_obj_func.update_state(label_batch, prediction[0])\n",
        "    top5_acc_obj_func.update_state(label_batch, prediction[0])\n",
        "\n",
        "  return acc_obj_func.result().numpy(), top1_acc_obj_func.result().numpy(), top5_acc_obj_func.result().numpy()\n"
      ]
    },
    {
      "cell_type": "code",
      "execution_count": 13,
      "metadata": {
        "id": "-dUkOIaaIwak"
      },
      "outputs": [],
      "source": [
        "reverse_class_labels = get_reverse_class_labels(class_labels)"
      ]
    },
    {
      "cell_type": "code",
      "execution_count": 14,
      "metadata": {
        "id": "IvzUaaolK1Oj"
      },
      "outputs": [],
      "source": [
        "images_file_path = list(paths.list_images(\"imagenet-sample-images\"))"
      ]
    },
    {
      "cell_type": "code",
      "execution_count": 15,
      "metadata": {
        "id": "uOG60eX7IwYA"
      },
      "outputs": [],
      "source": [
        "encoded_test_labels = get_encoded_labels(images_file_path, reverse_class_labels)"
      ]
    },
    {
      "cell_type": "code",
      "execution_count": null,
      "metadata": {
        "id": "S2A7NbpqIwVc"
      },
      "outputs": [],
      "source": [
        "images_arr = create_image_arr(images_file_path, img_size=224)"
      ]
    },
    {
      "cell_type": "code",
      "execution_count": null,
      "metadata": {
        "colab": {
          "base_uri": "https://localhost:8080/"
        },
        "id": "_VLcyOuxIwTf",
        "outputId": "76eaa07d-4596-4955-d16f-e7f3845b7330"
      },
      "outputs": [
        {
          "data": {
            "text/plain": [
              "<_PrefetchDataset element_spec=(TensorSpec(shape=(5, 224, 224, 3), dtype=tf.float32, name=None), TensorSpec(shape=(5,), dtype=tf.int64, name=None))>"
            ]
          },
          "execution_count": 89,
          "metadata": {},
          "output_type": "execute_result"
        }
      ],
      "source": [
        "test_ds = create_tf_dataset(images_arr, encoded_test_labels, batch_size=5)\n",
        "test_ds"
      ]
    },
    {
      "cell_type": "code",
      "execution_count": null,
      "metadata": {
        "id": "UCjJVjvkLErI"
      },
      "outputs": [],
      "source": []
    },
    {
      "cell_type": "code",
      "execution_count": null,
      "metadata": {
        "id": "GTrYJIPRIwKM"
      },
      "outputs": [],
      "source": [
        "# loading model variant --> cait xxs24_224\n",
        "model = keras.models.load_model(\"/content/models/cait_xxs24_224\", compile=False)"
      ]
    },
    {
      "cell_type": "code",
      "execution_count": null,
      "metadata": {
        "colab": {
          "base_uri": "https://localhost:8080/"
        },
        "id": "f126kHRZNUst",
        "outputId": "ec697ab4-cb5d-45f6-a2f0-bc4a18d41bd6"
      },
      "outputs": [
        {
          "name": "stderr",
          "output_type": "stream",
          "text": [
            "100%|██████████| 200/200 [00:51<00:00,  3.89it/s]\n"
          ]
        }
      ],
      "source": [
        "acc, top1_acc, top5_acc = make_prediction(model, test_ds)"
      ]
    },
    {
      "cell_type": "code",
      "execution_count": null,
      "metadata": {
        "id": "NuJ7NzklY4oz"
      },
      "outputs": [],
      "source": [
        "if not os.path.exists(\"logs/\"):\n",
        "  os.mkdir(\"logs\")"
      ]
    },
    {
      "cell_type": "code",
      "execution_count": null,
      "metadata": {
        "id": "-BG2lIMdUurs"
      },
      "outputs": [],
      "source": [
        "top1_acc_ = round(top1_acc*100, 2)\n",
        "top5_acc_ = round(top5_acc*100, 2)"
      ]
    },
    {
      "cell_type": "code",
      "execution_count": null,
      "metadata": {
        "id": "FlIBNzfUbKFp"
      },
      "outputs": [],
      "source": [
        "make_log_file(\"logs/cait_xxs24_224.csv\",\n",
        "              \"cait_xxs24_224\",\n",
        "              top1_accuracy=top1_acc_,\n",
        "              top5_accuracy=top5_acc_)"
      ]
    },
    {
      "cell_type": "code",
      "execution_count": null,
      "metadata": {
        "id": "MORLMIxlWS-O"
      },
      "outputs": [],
      "source": [
        "make_log_file_all_variant(\"logs/cait_benchmark.csv\")"
      ]
    },
    {
      "cell_type": "code",
      "execution_count": null,
      "metadata": {
        "id": "0w1PQ2zYWS6h"
      },
      "outputs": [],
      "source": [
        "add_log_all_variant(\"logs/cait_benchmark.csv\", \"cait_xxs24_224\", top1_acc_, top5_acc_)"
      ]
    },
    {
      "cell_type": "code",
      "execution_count": null,
      "metadata": {
        "colab": {
          "base_uri": "https://localhost:8080/"
        },
        "id": "oyRiVpeLWS3D",
        "outputId": "bc49e5d2-0362-4612-ed3e-2d9b9ace9256"
      },
      "outputs": [
        {
          "name": "stdout",
          "output_type": "stream",
          "text": [
            "Model Variant: cait_xxs24_224, top1_accuracy: 82.5, top5_accuracy: 95.0\n"
          ]
        }
      ],
      "source": [
        "print(f\"Model Variant: cait_xxs24_224, top1_accuracy: {top1_acc_}, top5_accuracy: {top5_acc_}\")"
      ]
    },
    {
      "cell_type": "code",
      "execution_count": null,
      "metadata": {
        "id": "B2zJLZd3b6qH"
      },
      "outputs": [],
      "source": []
    },
    {
      "cell_type": "code",
      "execution_count": null,
      "metadata": {
        "id": "z_NUoipEb72o"
      },
      "outputs": [],
      "source": [
        "# model variant cait_xxs36_224\n",
        "model = keras.models.load_model(\"/content/models/cait_xxs36_224\", compile=False)"
      ]
    },
    {
      "cell_type": "code",
      "execution_count": null,
      "metadata": {
        "colab": {
          "base_uri": "https://localhost:8080/"
        },
        "id": "Gr50Fyjsb7y8",
        "outputId": "ee04dbfe-90f3-435c-fb65-f1e9bb0f72ba"
      },
      "outputs": [
        {
          "name": "stderr",
          "output_type": "stream",
          "text": [
            "100%|██████████| 200/200 [01:06<00:00,  3.00it/s]\n"
          ]
        }
      ],
      "source": [
        "acc, top1_acc, top5_acc = make_prediction(model, test_ds)"
      ]
    },
    {
      "cell_type": "code",
      "execution_count": null,
      "metadata": {
        "id": "SXf9DosmcPX7"
      },
      "outputs": [],
      "source": [
        "top1_acc_ = round(top1_acc*100, 2)\n",
        "top5_acc_ = round(top5_acc*100, 2)"
      ]
    },
    {
      "cell_type": "code",
      "execution_count": null,
      "metadata": {
        "id": "V7I8XBzKcRKq"
      },
      "outputs": [],
      "source": [
        "make_log_file(\"logs/cait_xxs36_224.csv\",\n",
        "              \"cait_xxs36_224\",\n",
        "              top1_accuracy=top1_acc_,\n",
        "              top5_accuracy=top5_acc_)"
      ]
    },
    {
      "cell_type": "code",
      "execution_count": null,
      "metadata": {
        "id": "9FfnVYWVcRHU"
      },
      "outputs": [],
      "source": [
        "add_log_all_variant(\"logs/cait_benchmark.csv\", \"cait_xxs36_224\", top1_acc_, top5_acc_)"
      ]
    },
    {
      "cell_type": "code",
      "execution_count": null,
      "metadata": {
        "colab": {
          "base_uri": "https://localhost:8080/"
        },
        "id": "KmxwXq9WcREI",
        "outputId": "eba2dfe3-89e8-4b1a-a192-64c5f0a46195"
      },
      "outputs": [
        {
          "name": "stdout",
          "output_type": "stream",
          "text": [
            "Model Variant: cait_xxs36_224, top1_accuracy: 84.5, top5_accuracy: 96.1\n"
          ]
        }
      ],
      "source": [
        "print(f\"Model Variant: cait_xxs36_224, top1_accuracy: {top1_acc_}, top5_accuracy: {top5_acc_}\")"
      ]
    },
    {
      "cell_type": "code",
      "execution_count": null,
      "metadata": {
        "id": "FFFOYILmcQ_9"
      },
      "outputs": [],
      "source": [
        "with open(\"logs/cait_variants.csv\", \"a\") as file:\n",
        "  file.write(f\"cait_xxs36_224, top1_acc_, top5_acc_\\n\")"
      ]
    },
    {
      "cell_type": "code",
      "execution_count": null,
      "metadata": {
        "id": "KyYTS79VdeS9"
      },
      "outputs": [],
      "source": [
        "!cp -r /content/logs /content/drive/MyDrive"
      ]
    },
    {
      "cell_type": "code",
      "execution_count": null,
      "metadata": {
        "id": "6vObQ6nIfYeI"
      },
      "outputs": [],
      "source": []
    },
    {
      "cell_type": "code",
      "execution_count": null,
      "metadata": {
        "id": "6t-Z2Fz6fy7W"
      },
      "outputs": [],
      "source": [
        "# model variant cait_s24_224\n",
        "model = keras.models.load_model(\"/content/models/cait_s24_224\", compile=False)"
      ]
    },
    {
      "cell_type": "code",
      "execution_count": null,
      "metadata": {
        "colab": {
          "base_uri": "https://localhost:8080/"
        },
        "id": "Izm-ZPonfy4O",
        "outputId": "0ebd3895-5bc5-430b-dd76-abecca8e9b3c"
      },
      "outputs": [
        {
          "name": "stderr",
          "output_type": "stream",
          "text": [
            "100%|██████████| 200/200 [01:04<00:00,  3.09it/s]\n"
          ]
        }
      ],
      "source": [
        "acc, top1_acc, top5_acc = make_prediction(model, test_ds)"
      ]
    },
    {
      "cell_type": "code",
      "execution_count": null,
      "metadata": {
        "id": "Wjv3z3rffyzZ"
      },
      "outputs": [],
      "source": [
        "top1_acc_ = round(top1_acc*100, 2)\n",
        "top5_acc_ = round(top5_acc*100, 2)"
      ]
    },
    {
      "cell_type": "code",
      "execution_count": null,
      "metadata": {
        "id": "KIIoeqBAfywR"
      },
      "outputs": [],
      "source": [
        "make_log_file(\"logs/cait_s24_224.csv\",\n",
        "              \"cait_s24_224\",\n",
        "              top1_accuracy=top1_acc_,\n",
        "              top5_accuracy=top5_acc_)"
      ]
    },
    {
      "cell_type": "code",
      "execution_count": null,
      "metadata": {
        "id": "iwJL8-53fytA"
      },
      "outputs": [],
      "source": [
        "add_log_all_variant(\"logs/cait_benchmark.csv\", \"cait_s24_224\", top1_acc_, top5_acc_)"
      ]
    },
    {
      "cell_type": "code",
      "execution_count": null,
      "metadata": {
        "colab": {
          "base_uri": "https://localhost:8080/"
        },
        "id": "_30BhrfSgIjK",
        "outputId": "2b5a19b0-e901-442c-8ee6-7c2b982aa16f"
      },
      "outputs": [
        {
          "name": "stdout",
          "output_type": "stream",
          "text": [
            "Model Variant: cait_s24_224, top1_accuracy: 89.8, top5_accuracy: 98.4\n"
          ]
        }
      ],
      "source": [
        "print(f\"Model Variant: cait_s24_224, top1_accuracy: {top1_acc_}, top5_accuracy: {top5_acc_}\")"
      ]
    },
    {
      "cell_type": "code",
      "execution_count": null,
      "metadata": {
        "id": "T_UBLYRZgING"
      },
      "outputs": [],
      "source": []
    },
    {
      "cell_type": "code",
      "execution_count": null,
      "metadata": {
        "id": "j0p77wnVhIZt"
      },
      "outputs": [],
      "source": [
        "# models with 384 image size\n",
        "\n",
        "images_arr = create_image_arr(images_file_path, img_size=384)\n"
      ]
    },
    {
      "cell_type": "code",
      "execution_count": null,
      "metadata": {
        "colab": {
          "base_uri": "https://localhost:8080/"
        },
        "id": "gOeYQCWkhMe4",
        "outputId": "07598450-0908-44cb-9578-6c2358bdce74"
      },
      "outputs": [
        {
          "data": {
            "text/plain": [
              "<_PrefetchDataset element_spec=(TensorSpec(shape=(2, 384, 384, 3), dtype=tf.float32, name=None), TensorSpec(shape=(2,), dtype=tf.int64, name=None))>"
            ]
          },
          "execution_count": 14,
          "metadata": {},
          "output_type": "execute_result"
        }
      ],
      "source": [
        "test_ds = create_tf_dataset(images_arr, encoded_test_labels, batch_size=2)\n",
        "test_ds"
      ]
    },
    {
      "cell_type": "code",
      "execution_count": null,
      "metadata": {
        "id": "Z_mRyhI7hRKu"
      },
      "outputs": [],
      "source": []
    },
    {
      "cell_type": "code",
      "execution_count": null,
      "metadata": {
        "id": "6SD-5HvwhVwI"
      },
      "outputs": [],
      "source": [
        "# model variant cait_s24_224\n",
        "model = keras.models.load_model(\"/content/models/cait_xxs24_384\", compile=False)"
      ]
    },
    {
      "cell_type": "code",
      "execution_count": null,
      "metadata": {
        "colab": {
          "base_uri": "https://localhost:8080/"
        },
        "id": "lULN65NlhcYN",
        "outputId": "2f546c76-502a-4146-f5ba-e53eda4654d9"
      },
      "outputs": [
        {
          "name": "stderr",
          "output_type": "stream",
          "text": [
            "100%|██████████| 1000/1000 [04:49<00:00,  3.46it/s]\n"
          ]
        }
      ],
      "source": [
        "acc, top1_acc, top5_acc = make_prediction(model, test_ds)"
      ]
    },
    {
      "cell_type": "code",
      "execution_count": null,
      "metadata": {
        "id": "lYEaaf2nhfl3"
      },
      "outputs": [],
      "source": [
        "top1_acc_ = round(top1_acc*100, 2)\n",
        "top5_acc_ = round(top5_acc*100, 2)"
      ]
    },
    {
      "cell_type": "code",
      "execution_count": null,
      "metadata": {
        "id": "TV9PyChphhM-"
      },
      "outputs": [],
      "source": [
        "make_log_file(\"logs/cait_xxs24_384.csv\",\n",
        "              \"cait_xxs24_384\",\n",
        "              top1_accuracy=top1_acc_,\n",
        "              top5_accuracy=top5_acc_)"
      ]
    },
    {
      "cell_type": "code",
      "execution_count": null,
      "metadata": {
        "id": "mqFu6ee8hwgU"
      },
      "outputs": [],
      "source": [
        "add_log_all_variant(\"logs/cait_benchmark.csv\", \"cait_xxs24_384\", top1_acc_, top5_acc_)"
      ]
    },
    {
      "cell_type": "code",
      "execution_count": null,
      "metadata": {
        "colab": {
          "base_uri": "https://localhost:8080/"
        },
        "id": "BSzSHAovhz5C",
        "outputId": "406bac6a-4858-4c85-db76-8f7ac57a2c52"
      },
      "outputs": [
        {
          "name": "stdout",
          "output_type": "stream",
          "text": [
            "Model Variant: cait_xxs24_384, top1_accuracy: 85.5, top5_accuracy: 96.5\n"
          ]
        }
      ],
      "source": [
        "print(f\"Model Variant: cait_xxs24_384, top1_accuracy: {top1_acc_}, top5_accuracy: {top5_acc_}\")"
      ]
    },
    {
      "cell_type": "code",
      "execution_count": null,
      "metadata": {
        "id": "qVSeLkVJhz0V"
      },
      "outputs": [],
      "source": []
    },
    {
      "cell_type": "code",
      "execution_count": null,
      "metadata": {
        "id": "4xgb7H-0hzwT"
      },
      "outputs": [],
      "source": [
        "!cp -r /content/logs /content/drive/MyDrive"
      ]
    },
    {
      "cell_type": "code",
      "execution_count": null,
      "metadata": {
        "id": "Rnl-CiDgjUKI"
      },
      "outputs": [],
      "source": []
    },
    {
      "cell_type": "code",
      "execution_count": null,
      "metadata": {
        "id": "h0T4wDDijaUl"
      },
      "outputs": [],
      "source": [
        "# model variant cait_s24_224\n",
        "model = keras.models.load_model(\"/content/models/cait_xxs36_384\", compile=False)"
      ]
    },
    {
      "cell_type": "code",
      "execution_count": null,
      "metadata": {
        "id": "CHXp0Ai2j-pW"
      },
      "outputs": [],
      "source": [
        "acc, top1_acc, top5_acc = make_prediction(model, test_ds)"
      ]
    },
    {
      "cell_type": "code",
      "execution_count": null,
      "metadata": {
        "id": "fFOEcYo7kA0b"
      },
      "outputs": [],
      "source": [
        "top1_acc_ = round(top1_acc*100, 2)\n",
        "top5_acc_ = round(top5_acc*100, 2)"
      ]
    },
    {
      "cell_type": "code",
      "execution_count": null,
      "metadata": {
        "id": "RlT-spRikAs2"
      },
      "outputs": [],
      "source": [
        "make_log_file(\"logs/cait_xxs36_384.csv\",\n",
        "              \"cait_xxs36_384\",\n",
        "              top1_accuracy=top1_acc_,\n",
        "              top5_accuracy=top5_acc_)"
      ]
    },
    {
      "cell_type": "code",
      "execution_count": null,
      "metadata": {
        "id": "XqS04Lu0kAm5"
      },
      "outputs": [],
      "source": [
        "add_log_all_variant(\"logs/cait_benchmark.csv\", \"cait_xxs36_384\", top1_acc_, top5_acc_)"
      ]
    },
    {
      "cell_type": "code",
      "execution_count": null,
      "metadata": {
        "colab": {
          "base_uri": "https://localhost:8080/"
        },
        "id": "y9K0Qj2tkAhS",
        "outputId": "be0eb42c-06ef-4da3-e240-71761737be6c"
      },
      "outputs": [
        {
          "name": "stdout",
          "output_type": "stream",
          "text": [
            "Model Variant: cait_xxs36_384, top1_accuracy: 86.2, top5_accuracy: 97.5\n"
          ]
        }
      ],
      "source": [
        "print(f\"Model Variant: cait_xxs36_384, top1_accuracy: {top1_acc_}, top5_accuracy: {top5_acc_}\")"
      ]
    },
    {
      "cell_type": "code",
      "execution_count": null,
      "metadata": {
        "id": "fytnYbdLkJ3B"
      },
      "outputs": [],
      "source": [
        "!cp -r /content/logs /content/drive/MyDrive"
      ]
    },
    {
      "cell_type": "code",
      "execution_count": null,
      "metadata": {
        "id": "-DIcoI4QmHe1"
      },
      "outputs": [],
      "source": []
    },
    {
      "cell_type": "code",
      "execution_count": null,
      "metadata": {
        "id": "6psah5jgmHbL"
      },
      "outputs": [],
      "source": [
        "# model variant cait_xs24_384\n",
        "model = keras.models.load_model(\"/content/models/cait_xs24_384\", compile=False)"
      ]
    },
    {
      "cell_type": "code",
      "execution_count": null,
      "metadata": {
        "colab": {
          "base_uri": "https://localhost:8080/"
        },
        "id": "s6Wxpn-HmQiX",
        "outputId": "9aed1fdb-0d0c-40a6-c274-f85bb12e33e4"
      },
      "outputs": [
        {
          "name": "stderr",
          "output_type": "stream",
          "text": [
            "100%|██████████| 500/500 [04:12<00:00,  1.98it/s]\n"
          ]
        }
      ],
      "source": [
        "acc, top1_acc, top5_acc = make_prediction(model, test_ds)"
      ]
    },
    {
      "cell_type": "code",
      "execution_count": null,
      "metadata": {
        "id": "TAkwNjQEmQfn"
      },
      "outputs": [],
      "source": [
        "top1_acc_ = round(top1_acc*100, 2)\n",
        "top5_acc_ = round(top5_acc*100, 2)"
      ]
    },
    {
      "cell_type": "code",
      "execution_count": null,
      "metadata": {
        "id": "cOt18UTqmQcB"
      },
      "outputs": [],
      "source": [
        "make_log_file(\"logs/cait_xs24_384.csv\",\n",
        "              \"cait_xs24_384\",\n",
        "              top1_accuracy=top1_acc_,\n",
        "              top5_accuracy=top5_acc_)"
      ]
    },
    {
      "cell_type": "code",
      "execution_count": null,
      "metadata": {
        "id": "Gh-8J6UCmubA"
      },
      "outputs": [],
      "source": [
        "add_log_all_variant(\"logs/cait_benchmark.csv\", \"cait_xs24_384\", top1_acc_, top5_acc_)"
      ]
    },
    {
      "cell_type": "code",
      "execution_count": null,
      "metadata": {
        "colab": {
          "base_uri": "https://localhost:8080/"
        },
        "id": "muxwSCqfmxlb",
        "outputId": "17b54475-2fa0-44d4-c4f4-3450058f4925"
      },
      "outputs": [
        {
          "name": "stdout",
          "output_type": "stream",
          "text": [
            "Model Variant: cait_xs24_384, top1_accuracy: 86.2, top5_accuracy: 97.5\n"
          ]
        }
      ],
      "source": [
        "print(f\"Model Variant: cait_xs24_384, top1_accuracy: {top1_acc_}, top5_accuracy: {top5_acc_}\")"
      ]
    },
    {
      "cell_type": "code",
      "execution_count": null,
      "metadata": {
        "id": "SNUp2UYnm0F_"
      },
      "outputs": [],
      "source": [
        "!cp -r /content/logs /content/drive/MyDrive"
      ]
    },
    {
      "cell_type": "code",
      "execution_count": null,
      "metadata": {
        "id": "3XFDDscgm1ez"
      },
      "outputs": [],
      "source": []
    },
    {
      "cell_type": "code",
      "execution_count": null,
      "metadata": {
        "id": "ZTzLIvxgoKKA"
      },
      "outputs": [],
      "source": [
        "# model variant cait_s24_384\n",
        "model = keras.models.load_model(\"/content/models/cait_s24_384\", compile=False)"
      ]
    },
    {
      "cell_type": "code",
      "execution_count": null,
      "metadata": {
        "colab": {
          "base_uri": "https://localhost:8080/"
        },
        "id": "HftTwFhNoRC-",
        "outputId": "9f6be689-ac06-4561-f0ca-488284e7976e"
      },
      "outputs": [
        {
          "name": "stderr",
          "output_type": "stream",
          "text": [
            "100%|██████████| 500/500 [04:59<00:00,  1.67it/s]\n"
          ]
        }
      ],
      "source": [
        "acc, top1_acc, top5_acc = make_prediction(model, test_ds)"
      ]
    },
    {
      "cell_type": "code",
      "execution_count": null,
      "metadata": {
        "id": "3uC1umKvoSnd"
      },
      "outputs": [],
      "source": [
        "top1_acc_ = round(top1_acc*100, 2)\n",
        "top5_acc_ = round(top5_acc*100, 2)"
      ]
    },
    {
      "cell_type": "code",
      "execution_count": null,
      "metadata": {
        "id": "kl0YGzmSoUcE"
      },
      "outputs": [],
      "source": [
        "make_log_file(\"logs/cait_s24_384.csv\",\n",
        "              \"cait_s24_384\",\n",
        "              top1_accuracy=top1_acc_,\n",
        "              top5_accuracy=top5_acc_)"
      ]
    },
    {
      "cell_type": "code",
      "execution_count": null,
      "metadata": {
        "id": "vPtiam6goYBU"
      },
      "outputs": [],
      "source": [
        "add_log_all_variant(\"logs/cait_benchmark.csv\", \"cait_s24_384\", top1_acc_, top5_acc_)"
      ]
    },
    {
      "cell_type": "code",
      "execution_count": null,
      "metadata": {
        "colab": {
          "base_uri": "https://localhost:8080/"
        },
        "id": "jsYCPzzGosj8",
        "outputId": "cdea159b-95d9-43b4-bfdc-8b2c2879c430"
      },
      "outputs": [
        {
          "name": "stdout",
          "output_type": "stream",
          "text": [
            "Model Variant: cait_s24_384, top1_accuracy: 91.3, top5_accuracy: 98.6\n"
          ]
        }
      ],
      "source": [
        "print(f\"Model Variant: cait_s24_384, top1_accuracy: {top1_acc_}, top5_accuracy: {top5_acc_}\")"
      ]
    },
    {
      "cell_type": "code",
      "execution_count": null,
      "metadata": {
        "id": "TX3TNnfAovR7"
      },
      "outputs": [],
      "source": [
        "!cp -r /content/logs /content/drive/MyDrive"
      ]
    },
    {
      "cell_type": "code",
      "execution_count": null,
      "metadata": {
        "id": "PJWfHmEEqNyH"
      },
      "outputs": [],
      "source": []
    },
    {
      "cell_type": "code",
      "execution_count": null,
      "metadata": {
        "id": "HAs4v1frqNuw"
      },
      "outputs": [],
      "source": [
        "# model variant cait_s24_384\n",
        "model = keras.models.load_model(\"/content/models/cait_s36_384\", compile=False)"
      ]
    },
    {
      "cell_type": "code",
      "execution_count": null,
      "metadata": {
        "colab": {
          "base_uri": "https://localhost:8080/"
        },
        "id": "ynFZRsyzqNqv",
        "outputId": "a0659e60-7eab-41c0-ec9d-ab4fcd6e09c9"
      },
      "outputs": [
        {
          "name": "stderr",
          "output_type": "stream",
          "text": [
            "100%|██████████| 500/500 [06:49<00:00,  1.22it/s]\n"
          ]
        }
      ],
      "source": [
        "acc, top1_acc, top5_acc = make_prediction(model, test_ds)"
      ]
    },
    {
      "cell_type": "code",
      "execution_count": null,
      "metadata": {
        "id": "OEHTZ_6wqNiw"
      },
      "outputs": [],
      "source": [
        "top1_acc_ = round(top1_acc*100, 2)\n",
        "top5_acc_ = round(top5_acc*100, 2)"
      ]
    },
    {
      "cell_type": "code",
      "execution_count": null,
      "metadata": {
        "id": "2QxdBZS1qYyY"
      },
      "outputs": [],
      "source": [
        "make_log_file(\"logs/cait_s36_384.csv\",\n",
        "              \"cait_s36_384\",\n",
        "              top1_accuracy=top1_acc_,\n",
        "              top5_accuracy=top5_acc_)"
      ]
    },
    {
      "cell_type": "code",
      "execution_count": null,
      "metadata": {
        "id": "YRLfRKezqcBn"
      },
      "outputs": [],
      "source": [
        "add_log_all_variant(\"logs/cait_benchmark.csv\", \"cait_s36_384\", top1_acc_, top5_acc_)"
      ]
    },
    {
      "cell_type": "code",
      "execution_count": null,
      "metadata": {
        "colab": {
          "base_uri": "https://localhost:8080/"
        },
        "id": "h1BaHA27qeEI",
        "outputId": "94dc59ec-9e5e-4e68-e2fd-87afa0e8ef1f"
      },
      "outputs": [
        {
          "name": "stdout",
          "output_type": "stream",
          "text": [
            "Model Variant: cait_s36_384, top1_accuracy: 91.3, top5_accuracy: 98.7\n"
          ]
        }
      ],
      "source": [
        "print(f\"Model Variant: cait_s36_384, top1_accuracy: {top1_acc_}, top5_accuracy: {top5_acc_}\")"
      ]
    },
    {
      "cell_type": "code",
      "execution_count": null,
      "metadata": {
        "id": "1OEDD3KMqhKt"
      },
      "outputs": [],
      "source": [
        "!cp -r /content/logs /content/drive/MyDrive"
      ]
    },
    {
      "cell_type": "code",
      "execution_count": null,
      "metadata": {
        "id": "HzNksNuwsi18"
      },
      "outputs": [],
      "source": []
    },
    {
      "cell_type": "code",
      "execution_count": null,
      "metadata": {
        "id": "WZi_8IYLsg28"
      },
      "outputs": [],
      "source": [
        "# model variant cait_s24_384\n",
        "model = keras.models.load_model(\"/content/models/cait_m36_384\", compile=False)"
      ]
    },
    {
      "cell_type": "code",
      "execution_count": null,
      "metadata": {
        "colab": {
          "base_uri": "https://localhost:8080/"
        },
        "id": "JJ7KaQLksgzq",
        "outputId": "77b86865-ad48-45dd-b0a7-ec372be39d49"
      },
      "outputs": [
        {
          "name": "stderr",
          "output_type": "stream",
          "text": [
            "100%|██████████| 500/500 [39:37<00:00,  4.75s/it]\n"
          ]
        }
      ],
      "source": [
        "acc, top1_acc, top5_acc = make_prediction(model, test_ds)"
      ]
    },
    {
      "cell_type": "code",
      "execution_count": null,
      "metadata": {
        "id": "a6-NY4H0sgmL"
      },
      "outputs": [],
      "source": [
        "top1_acc_ = round(top1_acc*100, 2)\n",
        "top5_acc_ = round(top5_acc*100, 2)"
      ]
    },
    {
      "cell_type": "code",
      "execution_count": null,
      "metadata": {
        "id": "BeVuzBVAspvO"
      },
      "outputs": [],
      "source": [
        "make_log_file(\"logs/cait_m36_384.csv\",\n",
        "              \"cait_m36_384\",\n",
        "              top1_accuracy=top1_acc_,\n",
        "              top5_accuracy=top5_acc_)"
      ]
    },
    {
      "cell_type": "code",
      "execution_count": null,
      "metadata": {
        "id": "DdP8zGMdss-C"
      },
      "outputs": [],
      "source": [
        "add_log_all_variant(\"logs/cait_benchmark.csv\", \"cait_m36_384\", top1_acc_, top5_acc_)"
      ]
    },
    {
      "cell_type": "code",
      "execution_count": null,
      "metadata": {
        "colab": {
          "base_uri": "https://localhost:8080/"
        },
        "id": "ABYJ85eKsvBF",
        "outputId": "78453d2b-e9b1-48fc-8b16-151ac2777659"
      },
      "outputs": [
        {
          "name": "stdout",
          "output_type": "stream",
          "text": [
            "Model Variant: cait_m36_384, top1_accuracy: 92.9, top5_accuracy: 99.4\n"
          ]
        }
      ],
      "source": [
        "print(f\"Model Variant: cait_m36_384, top1_accuracy: {top1_acc_}, top5_accuracy: {top5_acc_}\")"
      ]
    },
    {
      "cell_type": "code",
      "execution_count": null,
      "metadata": {
        "id": "qgQLzGeZsyym"
      },
      "outputs": [],
      "source": [
        "!cp -r /content/logs /content/drive/MyDrive"
      ]
    },
    {
      "cell_type": "code",
      "execution_count": 16,
      "metadata": {
        "colab": {
          "base_uri": "https://localhost:8080/"
        },
        "id": "PaOTp_m4s0Ku",
        "outputId": "18de16df-afb1-40ea-dabb-9f31c44c243c"
      },
      "outputs": [
        {
          "data": {
            "text/plain": [
              "<_PrefetchDataset element_spec=(TensorSpec(shape=(2, 448, 448, 3), dtype=tf.float32, name=None), TensorSpec(shape=(2,), dtype=tf.int64, name=None))>"
            ]
          },
          "execution_count": 16,
          "metadata": {},
          "output_type": "execute_result"
        }
      ],
      "source": [
        "# models with image size of 448\n",
        "images_arr = create_image_arr(images_file_path, img_size=448)\n",
        "test_ds = create_tf_dataset(images_arr, encoded_test_labels, batch_size=2)\n",
        "test_ds"
      ]
    },
    {
      "cell_type": "code",
      "execution_count": 20,
      "metadata": {
        "id": "a-LhXgVs2kKZ"
      },
      "outputs": [],
      "source": [
        "!cp -r /content/content/drive/MyDrive/models ."
      ]
    },
    {
      "cell_type": "code",
      "execution_count": 4,
      "metadata": {
        "id": "L83CslDT2lRg"
      },
      "outputs": [],
      "source": [
        "# model variant cait_m48_448\n",
        "model = keras.models.load_model(\"/content/models/cait_m48_448\", compile=False)"
      ]
    },
    {
      "cell_type": "code",
      "execution_count": null,
      "metadata": {
        "colab": {
          "base_uri": "https://localhost:8080/"
        },
        "id": "3bNbB-1p2lJ1",
        "outputId": "d9b6a421-71b7-4410-8d63-9926a2e2c1df"
      },
      "outputs": [
        {
          "name": "stderr",
          "output_type": "stream",
          "text": [
            "\r  0%|          | 0/500 [00:00<?, ?it/s]"
          ]
        }
      ],
      "source": [
        "acc, top1_acc, top5_acc = make_prediction(model, test_ds)"
      ]
    },
    {
      "cell_type": "code",
      "execution_count": null,
      "metadata": {
        "id": "qJbMVfk62vWT"
      },
      "outputs": [],
      "source": [
        "top1_acc_ = round(top1_acc*100, 2)\n",
        "top5_acc_ = round(top5_acc*100, 2)"
      ]
    },
    {
      "cell_type": "code",
      "execution_count": null,
      "metadata": {
        "id": "ie1VlHOe2ylp"
      },
      "outputs": [],
      "source": [
        "make_log_file(\"logs/cait_m48_448.csv\",\n",
        "              \"cait_m48_448\",\n",
        "              top1_accuracy=top1_acc_,\n",
        "              top5_accuracy=top5_acc_)"
      ]
    },
    {
      "cell_type": "code",
      "execution_count": null,
      "metadata": {
        "id": "FSKmON9620zI"
      },
      "outputs": [],
      "source": [
        "add_log_all_variant(\"logs/cait_benchmark.csv\", \"cait_m48_448\", top1_acc_, top5_acc_)"
      ]
    },
    {
      "cell_type": "code",
      "execution_count": null,
      "metadata": {
        "id": "_TUBswYA22st"
      },
      "outputs": [],
      "source": [
        "print(f\"Model Variant: cait_m48_448, top1_accuracy: {top1_acc_}, top5_accuracy: {top5_acc_}\")"
      ]
    },
    {
      "cell_type": "code",
      "execution_count": null,
      "metadata": {
        "id": "zrMKj_RG24WO"
      },
      "outputs": [],
      "source": [
        "!cp -r /content/logs /content/drive/MyDrive"
      ]
    },
    {
      "cell_type": "code",
      "execution_count": 2,
      "metadata": {
        "id": "TsFYc3K9erGG"
      },
      "outputs": [],
      "source": [
        "!cp -r drive/MyDrive/logs ."
      ]
    },
    {
      "cell_type": "code",
      "execution_count": null,
      "metadata": {
        "id": "oz06V1w9gAlp"
      },
      "outputs": [],
      "source": []
    }
  ],
  "metadata": {
    "accelerator": "GPU",
    "colab": {
      "gpuType": "T4",
      "provenance": []
    },
    "kernelspec": {
      "display_name": "Python 3",
      "name": "python3"
    },
    "language_info": {
      "name": "python"
    }
  },
  "nbformat": 4,
  "nbformat_minor": 0
}
